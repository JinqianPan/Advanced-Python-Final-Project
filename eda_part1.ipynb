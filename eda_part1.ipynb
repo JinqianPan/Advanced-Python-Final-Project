{
  "nbformat": 4,
  "nbformat_minor": 0,
  "metadata": {
    "colab": {
      "provenance": []
    },
    "kernelspec": {
      "name": "python3",
      "display_name": "Python 3"
    },
    "language_info": {
      "name": "python"
    }
  },
  "cells": [
    {
      "cell_type": "code",
      "execution_count": null,
      "metadata": {
        "id": "lRuOXszHlWCP"
      },
      "outputs": [],
      "source": [
        "import pandas as pd\n",
        "import seaborn as sns"
      ]
    },
    {
      "cell_type": "code",
      "source": [
        "# IMPORT RAW DATA\n",
        "years = [2008, 2009, 2010, 2012, 2013, 2014, 2015, 2016]\n",
        "\n",
        "def load_data(years):\n",
        "    dataframes = []\n",
        "    # ls = [2014]\n",
        "    for year in years:\n",
        "    # for year in range(2008, 2017):\n",
        "        filename = str(year)+'.csv'\n",
        "        try: \n",
        "            this_data = pd.read_csv(filename, na_values=' ')\n",
        "        except:\n",
        "            this_data = pd.read_csv(filename, encoding= 'unicode_escape', na_values=' ')\n",
        "            # , dtype={'timestop': str}\n",
        "\n",
        "        if year in range(2011, 2017):\n",
        "            this_data = this_data.drop(columns=['forceuse'])\n",
        "        if year in range(2013, 2017):\n",
        "            this_data = this_data.rename(columns={'dettypCM': 'dettypcm', \n",
        "                                                  'lineCM': 'linecm', \n",
        "                                                  'detailCM': 'detailcm'})\n",
        "        # replace \" \" to NA\n",
        "    #     this_data.replace(\" \", pd.NA, inplace=True)\n",
        "        dataframes.append(this_data)\n",
        "\n",
        "    sqf_data_full = pd.concat(dataframes, ignore_index=True)\n",
        "    sqf_data = sqf_data_full.copy()\n",
        "    return sqf_data"
      ],
      "metadata": {
        "id": "mK7wiy0rnb4e"
      },
      "execution_count": null,
      "outputs": []
    },
    {
      "cell_type": "code",
      "source": [
        "data = load_data(years)"
      ],
      "metadata": {
        "colab": {
          "base_uri": "https://localhost:8080/"
        },
        "id": "eVQ3mBKsrIdU",
        "outputId": "98180df2-57f3-4736-9868-2a900c094273"
      },
      "execution_count": null,
      "outputs": [
        {
          "output_type": "stream",
          "name": "stderr",
          "text": [
            "<ipython-input-3-4d9803994c63>:13: DtypeWarning: Columns (73,74,105) have mixed types. Specify dtype option on import or set low_memory=False.\n",
            "  this_data = pd.read_csv(filename, encoding= 'unicode_escape', na_values=' ')\n",
            "<ipython-input-3-4d9803994c63>:13: DtypeWarning: Columns (73) have mixed types. Specify dtype option on import or set low_memory=False.\n",
            "  this_data = pd.read_csv(filename, encoding= 'unicode_escape', na_values=' ')\n",
            "<ipython-input-3-4d9803994c63>:11: DtypeWarning: Columns (21) have mixed types. Specify dtype option on import or set low_memory=False.\n",
            "  this_data = pd.read_csv(filename, na_values=' ')\n",
            "<ipython-input-3-4d9803994c63>:11: DtypeWarning: Columns (10,95,105) have mixed types. Specify dtype option on import or set low_memory=False.\n",
            "  this_data = pd.read_csv(filename, na_values=' ')\n",
            "<ipython-input-3-4d9803994c63>:11: DtypeWarning: Columns (10,17,90) have mixed types. Specify dtype option on import or set low_memory=False.\n",
            "  this_data = pd.read_csv(filename, na_values=' ')\n",
            "<ipython-input-3-4d9803994c63>:11: DtypeWarning: Columns (10,83) have mixed types. Specify dtype option on import or set low_memory=False.\n",
            "  this_data = pd.read_csv(filename, na_values=' ')\n",
            "<ipython-input-3-4d9803994c63>:11: DtypeWarning: Columns (5,10) have mixed types. Specify dtype option on import or set low_memory=False.\n",
            "  this_data = pd.read_csv(filename, na_values=' ')\n",
            "<ipython-input-3-4d9803994c63>:11: DtypeWarning: Columns (10) have mixed types. Specify dtype option on import or set low_memory=False.\n",
            "  this_data = pd.read_csv(filename, na_values=' ')\n"
          ]
        }
      ]
    },
    {
      "cell_type": "code",
      "source": [
        "data.head()"
      ],
      "metadata": {
        "colab": {
          "base_uri": "https://localhost:8080/",
          "height": 314
        },
        "id": "fa5fFB5arLGl",
        "outputId": "85de7d43-c6a5-4b6b-aade-3aebe9fcb804"
      },
      "execution_count": null,
      "outputs": [
        {
          "output_type": "execute_result",
          "data": {
            "text/plain": [
              "   year  pct  ser_num  datestop  timestop recstat inout trhsloc  perobs  \\\n",
              "0  2008   42     1044   1012008     130.0       A     O     NaN    20.0   \n",
              "1  2008  108        3   1012008    2010.0       A     I     NaN     1.0   \n",
              "2  2008  100       15   1082008     100.0       A     O       H     2.0   \n",
              "3  2008  103      210   1082008    1905.0       A     O     NaN     2.0   \n",
              "4  2008   71       90   1122008    2125.0       A     I       H     5.0   \n",
              "\n",
              "    crimsusp  ... zip addrpct sector  beat post     xcoord    ycoord dettypcm  \\\n",
              "0        FEL  ... NaN    42.0      B   NaN  NaN  1009873.0  243953.0       CM   \n",
              "1   BURGLARY  ... NaN   108.0      B   NaN  NaN  1001546.0  210784.0       CM   \n",
              "2    ROBBERY  ... NaN   100.0      B   2.0  NaN  1042944.0  154180.0       CM   \n",
              "3    ROBBERY  ... NaN   103.0      J  16.0  NaN  1050245.0  196802.0       CM   \n",
              "4  CRIM-TRES  ... NaN    71.0      C   5.0   PP   995112.0  180043.0       CM   \n",
              "\n",
              "   linecm  detailcm  \n",
              "0     1.0      20.0  \n",
              "1     1.0      14.0  \n",
              "2     1.0      85.0  \n",
              "3     1.0      85.0  \n",
              "4     1.0      31.0  \n",
              "\n",
              "[5 rows x 111 columns]"
            ],
            "text/html": [
              "\n",
              "  <div id=\"df-c97edf1e-fe34-4b88-80da-5409e0534bda\">\n",
              "    <div class=\"colab-df-container\">\n",
              "      <div>\n",
              "<style scoped>\n",
              "    .dataframe tbody tr th:only-of-type {\n",
              "        vertical-align: middle;\n",
              "    }\n",
              "\n",
              "    .dataframe tbody tr th {\n",
              "        vertical-align: top;\n",
              "    }\n",
              "\n",
              "    .dataframe thead th {\n",
              "        text-align: right;\n",
              "    }\n",
              "</style>\n",
              "<table border=\"1\" class=\"dataframe\">\n",
              "  <thead>\n",
              "    <tr style=\"text-align: right;\">\n",
              "      <th></th>\n",
              "      <th>year</th>\n",
              "      <th>pct</th>\n",
              "      <th>ser_num</th>\n",
              "      <th>datestop</th>\n",
              "      <th>timestop</th>\n",
              "      <th>recstat</th>\n",
              "      <th>inout</th>\n",
              "      <th>trhsloc</th>\n",
              "      <th>perobs</th>\n",
              "      <th>crimsusp</th>\n",
              "      <th>...</th>\n",
              "      <th>zip</th>\n",
              "      <th>addrpct</th>\n",
              "      <th>sector</th>\n",
              "      <th>beat</th>\n",
              "      <th>post</th>\n",
              "      <th>xcoord</th>\n",
              "      <th>ycoord</th>\n",
              "      <th>dettypcm</th>\n",
              "      <th>linecm</th>\n",
              "      <th>detailcm</th>\n",
              "    </tr>\n",
              "  </thead>\n",
              "  <tbody>\n",
              "    <tr>\n",
              "      <th>0</th>\n",
              "      <td>2008</td>\n",
              "      <td>42</td>\n",
              "      <td>1044</td>\n",
              "      <td>1012008</td>\n",
              "      <td>130.0</td>\n",
              "      <td>A</td>\n",
              "      <td>O</td>\n",
              "      <td>NaN</td>\n",
              "      <td>20.0</td>\n",
              "      <td>FEL</td>\n",
              "      <td>...</td>\n",
              "      <td>NaN</td>\n",
              "      <td>42.0</td>\n",
              "      <td>B</td>\n",
              "      <td>NaN</td>\n",
              "      <td>NaN</td>\n",
              "      <td>1009873.0</td>\n",
              "      <td>243953.0</td>\n",
              "      <td>CM</td>\n",
              "      <td>1.0</td>\n",
              "      <td>20.0</td>\n",
              "    </tr>\n",
              "    <tr>\n",
              "      <th>1</th>\n",
              "      <td>2008</td>\n",
              "      <td>108</td>\n",
              "      <td>3</td>\n",
              "      <td>1012008</td>\n",
              "      <td>2010.0</td>\n",
              "      <td>A</td>\n",
              "      <td>I</td>\n",
              "      <td>NaN</td>\n",
              "      <td>1.0</td>\n",
              "      <td>BURGLARY</td>\n",
              "      <td>...</td>\n",
              "      <td>NaN</td>\n",
              "      <td>108.0</td>\n",
              "      <td>B</td>\n",
              "      <td>NaN</td>\n",
              "      <td>NaN</td>\n",
              "      <td>1001546.0</td>\n",
              "      <td>210784.0</td>\n",
              "      <td>CM</td>\n",
              "      <td>1.0</td>\n",
              "      <td>14.0</td>\n",
              "    </tr>\n",
              "    <tr>\n",
              "      <th>2</th>\n",
              "      <td>2008</td>\n",
              "      <td>100</td>\n",
              "      <td>15</td>\n",
              "      <td>1082008</td>\n",
              "      <td>100.0</td>\n",
              "      <td>A</td>\n",
              "      <td>O</td>\n",
              "      <td>H</td>\n",
              "      <td>2.0</td>\n",
              "      <td>ROBBERY</td>\n",
              "      <td>...</td>\n",
              "      <td>NaN</td>\n",
              "      <td>100.0</td>\n",
              "      <td>B</td>\n",
              "      <td>2.0</td>\n",
              "      <td>NaN</td>\n",
              "      <td>1042944.0</td>\n",
              "      <td>154180.0</td>\n",
              "      <td>CM</td>\n",
              "      <td>1.0</td>\n",
              "      <td>85.0</td>\n",
              "    </tr>\n",
              "    <tr>\n",
              "      <th>3</th>\n",
              "      <td>2008</td>\n",
              "      <td>103</td>\n",
              "      <td>210</td>\n",
              "      <td>1082008</td>\n",
              "      <td>1905.0</td>\n",
              "      <td>A</td>\n",
              "      <td>O</td>\n",
              "      <td>NaN</td>\n",
              "      <td>2.0</td>\n",
              "      <td>ROBBERY</td>\n",
              "      <td>...</td>\n",
              "      <td>NaN</td>\n",
              "      <td>103.0</td>\n",
              "      <td>J</td>\n",
              "      <td>16.0</td>\n",
              "      <td>NaN</td>\n",
              "      <td>1050245.0</td>\n",
              "      <td>196802.0</td>\n",
              "      <td>CM</td>\n",
              "      <td>1.0</td>\n",
              "      <td>85.0</td>\n",
              "    </tr>\n",
              "    <tr>\n",
              "      <th>4</th>\n",
              "      <td>2008</td>\n",
              "      <td>71</td>\n",
              "      <td>90</td>\n",
              "      <td>1122008</td>\n",
              "      <td>2125.0</td>\n",
              "      <td>A</td>\n",
              "      <td>I</td>\n",
              "      <td>H</td>\n",
              "      <td>5.0</td>\n",
              "      <td>CRIM-TRES</td>\n",
              "      <td>...</td>\n",
              "      <td>NaN</td>\n",
              "      <td>71.0</td>\n",
              "      <td>C</td>\n",
              "      <td>5.0</td>\n",
              "      <td>PP</td>\n",
              "      <td>995112.0</td>\n",
              "      <td>180043.0</td>\n",
              "      <td>CM</td>\n",
              "      <td>1.0</td>\n",
              "      <td>31.0</td>\n",
              "    </tr>\n",
              "  </tbody>\n",
              "</table>\n",
              "<p>5 rows × 111 columns</p>\n",
              "</div>\n",
              "      <button class=\"colab-df-convert\" onclick=\"convertToInteractive('df-c97edf1e-fe34-4b88-80da-5409e0534bda')\"\n",
              "              title=\"Convert this dataframe to an interactive table.\"\n",
              "              style=\"display:none;\">\n",
              "        \n",
              "  <svg xmlns=\"http://www.w3.org/2000/svg\" height=\"24px\"viewBox=\"0 0 24 24\"\n",
              "       width=\"24px\">\n",
              "    <path d=\"M0 0h24v24H0V0z\" fill=\"none\"/>\n",
              "    <path d=\"M18.56 5.44l.94 2.06.94-2.06 2.06-.94-2.06-.94-.94-2.06-.94 2.06-2.06.94zm-11 1L8.5 8.5l.94-2.06 2.06-.94-2.06-.94L8.5 2.5l-.94 2.06-2.06.94zm10 10l.94 2.06.94-2.06 2.06-.94-2.06-.94-.94-2.06-.94 2.06-2.06.94z\"/><path d=\"M17.41 7.96l-1.37-1.37c-.4-.4-.92-.59-1.43-.59-.52 0-1.04.2-1.43.59L10.3 9.45l-7.72 7.72c-.78.78-.78 2.05 0 2.83L4 21.41c.39.39.9.59 1.41.59.51 0 1.02-.2 1.41-.59l7.78-7.78 2.81-2.81c.8-.78.8-2.07 0-2.86zM5.41 20L4 18.59l7.72-7.72 1.47 1.35L5.41 20z\"/>\n",
              "  </svg>\n",
              "      </button>\n",
              "      \n",
              "  <style>\n",
              "    .colab-df-container {\n",
              "      display:flex;\n",
              "      flex-wrap:wrap;\n",
              "      gap: 12px;\n",
              "    }\n",
              "\n",
              "    .colab-df-convert {\n",
              "      background-color: #E8F0FE;\n",
              "      border: none;\n",
              "      border-radius: 50%;\n",
              "      cursor: pointer;\n",
              "      display: none;\n",
              "      fill: #1967D2;\n",
              "      height: 32px;\n",
              "      padding: 0 0 0 0;\n",
              "      width: 32px;\n",
              "    }\n",
              "\n",
              "    .colab-df-convert:hover {\n",
              "      background-color: #E2EBFA;\n",
              "      box-shadow: 0px 1px 2px rgba(60, 64, 67, 0.3), 0px 1px 3px 1px rgba(60, 64, 67, 0.15);\n",
              "      fill: #174EA6;\n",
              "    }\n",
              "\n",
              "    [theme=dark] .colab-df-convert {\n",
              "      background-color: #3B4455;\n",
              "      fill: #D2E3FC;\n",
              "    }\n",
              "\n",
              "    [theme=dark] .colab-df-convert:hover {\n",
              "      background-color: #434B5C;\n",
              "      box-shadow: 0px 1px 3px 1px rgba(0, 0, 0, 0.15);\n",
              "      filter: drop-shadow(0px 1px 2px rgba(0, 0, 0, 0.3));\n",
              "      fill: #FFFFFF;\n",
              "    }\n",
              "  </style>\n",
              "\n",
              "      <script>\n",
              "        const buttonEl =\n",
              "          document.querySelector('#df-c97edf1e-fe34-4b88-80da-5409e0534bda button.colab-df-convert');\n",
              "        buttonEl.style.display =\n",
              "          google.colab.kernel.accessAllowed ? 'block' : 'none';\n",
              "\n",
              "        async function convertToInteractive(key) {\n",
              "          const element = document.querySelector('#df-c97edf1e-fe34-4b88-80da-5409e0534bda');\n",
              "          const dataTable =\n",
              "            await google.colab.kernel.invokeFunction('convertToInteractive',\n",
              "                                                     [key], {});\n",
              "          if (!dataTable) return;\n",
              "\n",
              "          const docLinkHtml = 'Like what you see? Visit the ' +\n",
              "            '<a target=\"_blank\" href=https://colab.research.google.com/notebooks/data_table.ipynb>data table notebook</a>'\n",
              "            + ' to learn more about interactive tables.';\n",
              "          element.innerHTML = '';\n",
              "          dataTable['output_type'] = 'display_data';\n",
              "          await google.colab.output.renderOutput(dataTable, element);\n",
              "          const docLink = document.createElement('div');\n",
              "          docLink.innerHTML = docLinkHtml;\n",
              "          element.appendChild(docLink);\n",
              "        }\n",
              "      </script>\n",
              "    </div>\n",
              "  </div>\n",
              "  "
            ]
          },
          "metadata": {},
          "execution_count": 5
        }
      ]
    },
    {
      "cell_type": "code",
      "source": [
        "column_names = ['year', 'pistol', 'riflshot', 'asltweap', 'machgun', 'knifcuti', 'othrweap',\n",
        "                'pct', 'trhsloc', \n",
        "                'ac_assoc', 'ac_cgdir', 'ac_rept', 'ac_evasv', 'ac_incid', \n",
        "                'ac_inves', 'ac_proxm', 'ac_time', 'ac_stsnd', 'ac_other',\n",
        "                'cs_objcs', 'cs_descr', 'cs_casng', 'cs_lkout', 'cs_cloth', 'cs_drgtr', \n",
        "                'cs_furtv', 'cs_vcrim', 'cs_bulge', 'cs_other', 'age', 'build', 'sex', \n",
        "                'ht_feet', 'ht_inch', 'weight', 'inout', 'radio', 'perobs', 'datestop', 'timestop']"
      ],
      "metadata": {
        "id": "YTteZHNUtJkZ"
      },
      "execution_count": null,
      "outputs": []
    },
    {
      "cell_type": "code",
      "source": [
        "data = data[column_names]"
      ],
      "metadata": {
        "id": "9hPbAuwMtJpF"
      },
      "execution_count": null,
      "outputs": []
    },
    {
      "cell_type": "code",
      "source": [
        "data['pistol'].value_counts()"
      ],
      "metadata": {
        "colab": {
          "base_uri": "https://localhost:8080/"
        },
        "id": "d9DiVveStbDd",
        "outputId": "eb01fea0-fa0b-42bf-8577-81a70d10a2aa"
      },
      "execution_count": null,
      "outputs": [
        {
          "output_type": "execute_result",
          "data": {
            "text/plain": [
              "N    2513767\n",
              "Y       3644\n",
              "1         54\n",
              "Name: pistol, dtype: int64"
            ]
          },
          "metadata": {},
          "execution_count": 8
        }
      ]
    },
    {
      "cell_type": "code",
      "source": [
        "data['riflshot'].value_counts()"
      ],
      "metadata": {
        "colab": {
          "base_uri": "https://localhost:8080/"
        },
        "id": "iIHdApPftj59",
        "outputId": "cca1cd3e-bfb7-4be0-d349-31e3b48def90"
      },
      "execution_count": null,
      "outputs": [
        {
          "output_type": "execute_result",
          "data": {
            "text/plain": [
              "N    2517274\n",
              "Y        137\n",
              "1          1\n",
              "Name: riflshot, dtype: int64"
            ]
          },
          "metadata": {},
          "execution_count": 9
        }
      ]
    },
    {
      "cell_type": "code",
      "source": [
        "data['asltweap'].value_counts()"
      ],
      "metadata": {
        "colab": {
          "base_uri": "https://localhost:8080/"
        },
        "id": "tzxCeeSMtkCk",
        "outputId": "20917637-fe6e-45d6-9e82-fb1979382554"
      },
      "execution_count": null,
      "outputs": [
        {
          "output_type": "execute_result",
          "data": {
            "text/plain": [
              "N    2517212\n",
              "Y        199\n",
              "1          1\n",
              "Name: asltweap, dtype: int64"
            ]
          },
          "metadata": {},
          "execution_count": 10
        }
      ]
    },
    {
      "cell_type": "code",
      "source": [
        "data['machgun'].value_counts()"
      ],
      "metadata": {
        "colab": {
          "base_uri": "https://localhost:8080/"
        },
        "id": "Z1wOW2lotru0",
        "outputId": "c205a5b8-fad5-4f8f-9211-09cfa7cf1754"
      },
      "execution_count": null,
      "outputs": [
        {
          "output_type": "execute_result",
          "data": {
            "text/plain": [
              "N    2517387\n",
              "Y         24\n",
              "Name: machgun, dtype: int64"
            ]
          },
          "metadata": {},
          "execution_count": 11
        }
      ]
    },
    {
      "cell_type": "code",
      "source": [
        "data['knifcuti'].value_counts()"
      ],
      "metadata": {
        "colab": {
          "base_uri": "https://localhost:8080/"
        },
        "id": "yVTB7cBGtr0V",
        "outputId": "5cd973c5-336e-49d4-9cae-c7acbb94b14a"
      },
      "execution_count": null,
      "outputs": [
        {
          "output_type": "execute_result",
          "data": {
            "text/plain": [
              "N    2492227\n",
              "Y      25184\n",
              "1        255\n",
              "Name: knifcuti, dtype: int64"
            ]
          },
          "metadata": {},
          "execution_count": 12
        }
      ]
    },
    {
      "cell_type": "code",
      "source": [
        "data['othrweap'].value_counts()"
      ],
      "metadata": {
        "colab": {
          "base_uri": "https://localhost:8080/"
        },
        "id": "yRa_iEi_tr8L",
        "outputId": "85ba03f7-607b-4975-aa02-decd7a318b8c"
      },
      "execution_count": null,
      "outputs": [
        {
          "output_type": "execute_result",
          "data": {
            "text/plain": [
              "N    2510210\n",
              "Y       7201\n",
              "1         89\n",
              "Name: othrweap, dtype: int64"
            ]
          },
          "metadata": {},
          "execution_count": 13
        }
      ]
    },
    {
      "cell_type": "code",
      "source": [
        "coln = [\"cs_objcs\", \"cs_descr\", \"cs_casng\",\"cs_lkout\", \"cs_cloth\", \n",
        "        \"cs_drgtr\", \"cs_furtv\", \"cs_vcrim\", \"cs_bulge\", \"cs_other\",\n",
        "        \"ac_rept\", \"ac_inves\", \"ac_proxm\", \"ac_evasv\", \"ac_assoc\", \"ac_cgdir\",\n",
        "        \"ac_incid\", \"ac_time\", \"ac_stsnd\", \"ac_other\", \"pistol\", \"riflshot\", \"asltweap\", \n",
        "        \"knifcuti\", \"machgun\", \"othrweap\"]\n",
        "\n",
        "# replace values for 2014 and convert to 'Y' or 'N'\n",
        "for i in coln:\n",
        "    data.loc[(data['year'] == 2014) & (data[i] == 1), i] = 'Y'\n",
        "    data.loc[(data['year'] == 2014) & (data[i].isna()), i] = 'N'"
      ],
      "metadata": {
        "id": "zvlKWOgVv_WD"
      },
      "execution_count": null,
      "outputs": []
    },
    {
      "cell_type": "code",
      "source": [
        "def recode_yn(f):\n",
        "    f_new = f.replace({'N': 0, 'Y': 1})\n",
        "    f_new = f_new.astype(bool)\n",
        "    return f_new\n",
        "\n",
        "data = data.assign(found_pistol = recode_yn(data['pistol']),\n",
        "                           found_rifle = recode_yn(data['riflshot']),\n",
        "                           found_assault = recode_yn(data['asltweap']),\n",
        "                           found_machinegun = recode_yn(data['machgun']),\n",
        "                           found_knife = recode_yn(data['knifcuti']),\n",
        "                           found_other = recode_yn(data['othrweap']))\n",
        "\n",
        "data['found_weapon'] = (data['found_pistol'] | data['found_rifle'] |\n",
        "                            data['found_assault'] | data['found_machinegun'] |\n",
        "                            data['found_knife'] | data['found_other'])"
      ],
      "metadata": {
        "id": "6PrhGhwNvPSL"
      },
      "execution_count": null,
      "outputs": []
    },
    {
      "cell_type": "code",
      "source": [
        "df1 = data[['found_pistol','found_rifle','found_assault','found_machinegun','found_knife','found_other']].sum().to_frame()\n",
        "df1 = df1.reset_index()\n",
        "df1"
      ],
      "metadata": {
        "colab": {
          "base_uri": "https://localhost:8080/",
          "height": 235
        },
        "id": "yMgti86IvPYQ",
        "outputId": "d20c1b79-2442-4480-ef70-e420e98d7a6a"
      },
      "execution_count": null,
      "outputs": [
        {
          "output_type": "execute_result",
          "data": {
            "text/plain": [
              "              index      0\n",
              "0      found_pistol   3698\n",
              "1       found_rifle    138\n",
              "2     found_assault    200\n",
              "3  found_machinegun     24\n",
              "4       found_knife  25439\n",
              "5       found_other   7290"
            ],
            "text/html": [
              "\n",
              "  <div id=\"df-dbad4203-bb0b-4a36-bcac-1fe751fdb3ca\">\n",
              "    <div class=\"colab-df-container\">\n",
              "      <div>\n",
              "<style scoped>\n",
              "    .dataframe tbody tr th:only-of-type {\n",
              "        vertical-align: middle;\n",
              "    }\n",
              "\n",
              "    .dataframe tbody tr th {\n",
              "        vertical-align: top;\n",
              "    }\n",
              "\n",
              "    .dataframe thead th {\n",
              "        text-align: right;\n",
              "    }\n",
              "</style>\n",
              "<table border=\"1\" class=\"dataframe\">\n",
              "  <thead>\n",
              "    <tr style=\"text-align: right;\">\n",
              "      <th></th>\n",
              "      <th>index</th>\n",
              "      <th>0</th>\n",
              "    </tr>\n",
              "  </thead>\n",
              "  <tbody>\n",
              "    <tr>\n",
              "      <th>0</th>\n",
              "      <td>found_pistol</td>\n",
              "      <td>3698</td>\n",
              "    </tr>\n",
              "    <tr>\n",
              "      <th>1</th>\n",
              "      <td>found_rifle</td>\n",
              "      <td>138</td>\n",
              "    </tr>\n",
              "    <tr>\n",
              "      <th>2</th>\n",
              "      <td>found_assault</td>\n",
              "      <td>200</td>\n",
              "    </tr>\n",
              "    <tr>\n",
              "      <th>3</th>\n",
              "      <td>found_machinegun</td>\n",
              "      <td>24</td>\n",
              "    </tr>\n",
              "    <tr>\n",
              "      <th>4</th>\n",
              "      <td>found_knife</td>\n",
              "      <td>25439</td>\n",
              "    </tr>\n",
              "    <tr>\n",
              "      <th>5</th>\n",
              "      <td>found_other</td>\n",
              "      <td>7290</td>\n",
              "    </tr>\n",
              "  </tbody>\n",
              "</table>\n",
              "</div>\n",
              "      <button class=\"colab-df-convert\" onclick=\"convertToInteractive('df-dbad4203-bb0b-4a36-bcac-1fe751fdb3ca')\"\n",
              "              title=\"Convert this dataframe to an interactive table.\"\n",
              "              style=\"display:none;\">\n",
              "        \n",
              "  <svg xmlns=\"http://www.w3.org/2000/svg\" height=\"24px\"viewBox=\"0 0 24 24\"\n",
              "       width=\"24px\">\n",
              "    <path d=\"M0 0h24v24H0V0z\" fill=\"none\"/>\n",
              "    <path d=\"M18.56 5.44l.94 2.06.94-2.06 2.06-.94-2.06-.94-.94-2.06-.94 2.06-2.06.94zm-11 1L8.5 8.5l.94-2.06 2.06-.94-2.06-.94L8.5 2.5l-.94 2.06-2.06.94zm10 10l.94 2.06.94-2.06 2.06-.94-2.06-.94-.94-2.06-.94 2.06-2.06.94z\"/><path d=\"M17.41 7.96l-1.37-1.37c-.4-.4-.92-.59-1.43-.59-.52 0-1.04.2-1.43.59L10.3 9.45l-7.72 7.72c-.78.78-.78 2.05 0 2.83L4 21.41c.39.39.9.59 1.41.59.51 0 1.02-.2 1.41-.59l7.78-7.78 2.81-2.81c.8-.78.8-2.07 0-2.86zM5.41 20L4 18.59l7.72-7.72 1.47 1.35L5.41 20z\"/>\n",
              "  </svg>\n",
              "      </button>\n",
              "      \n",
              "  <style>\n",
              "    .colab-df-container {\n",
              "      display:flex;\n",
              "      flex-wrap:wrap;\n",
              "      gap: 12px;\n",
              "    }\n",
              "\n",
              "    .colab-df-convert {\n",
              "      background-color: #E8F0FE;\n",
              "      border: none;\n",
              "      border-radius: 50%;\n",
              "      cursor: pointer;\n",
              "      display: none;\n",
              "      fill: #1967D2;\n",
              "      height: 32px;\n",
              "      padding: 0 0 0 0;\n",
              "      width: 32px;\n",
              "    }\n",
              "\n",
              "    .colab-df-convert:hover {\n",
              "      background-color: #E2EBFA;\n",
              "      box-shadow: 0px 1px 2px rgba(60, 64, 67, 0.3), 0px 1px 3px 1px rgba(60, 64, 67, 0.15);\n",
              "      fill: #174EA6;\n",
              "    }\n",
              "\n",
              "    [theme=dark] .colab-df-convert {\n",
              "      background-color: #3B4455;\n",
              "      fill: #D2E3FC;\n",
              "    }\n",
              "\n",
              "    [theme=dark] .colab-df-convert:hover {\n",
              "      background-color: #434B5C;\n",
              "      box-shadow: 0px 1px 3px 1px rgba(0, 0, 0, 0.15);\n",
              "      filter: drop-shadow(0px 1px 2px rgba(0, 0, 0, 0.3));\n",
              "      fill: #FFFFFF;\n",
              "    }\n",
              "  </style>\n",
              "\n",
              "      <script>\n",
              "        const buttonEl =\n",
              "          document.querySelector('#df-dbad4203-bb0b-4a36-bcac-1fe751fdb3ca button.colab-df-convert');\n",
              "        buttonEl.style.display =\n",
              "          google.colab.kernel.accessAllowed ? 'block' : 'none';\n",
              "\n",
              "        async function convertToInteractive(key) {\n",
              "          const element = document.querySelector('#df-dbad4203-bb0b-4a36-bcac-1fe751fdb3ca');\n",
              "          const dataTable =\n",
              "            await google.colab.kernel.invokeFunction('convertToInteractive',\n",
              "                                                     [key], {});\n",
              "          if (!dataTable) return;\n",
              "\n",
              "          const docLinkHtml = 'Like what you see? Visit the ' +\n",
              "            '<a target=\"_blank\" href=https://colab.research.google.com/notebooks/data_table.ipynb>data table notebook</a>'\n",
              "            + ' to learn more about interactive tables.';\n",
              "          element.innerHTML = '';\n",
              "          dataTable['output_type'] = 'display_data';\n",
              "          await google.colab.output.renderOutput(dataTable, element);\n",
              "          const docLink = document.createElement('div');\n",
              "          docLink.innerHTML = docLinkHtml;\n",
              "          element.appendChild(docLink);\n",
              "        }\n",
              "      </script>\n",
              "    </div>\n",
              "  </div>\n",
              "  "
            ]
          },
          "metadata": {},
          "execution_count": 33
        }
      ]
    },
    {
      "cell_type": "code",
      "source": [
        "df1.index"
      ],
      "metadata": {
        "colab": {
          "base_uri": "https://localhost:8080/"
        },
        "id": "4MgzijgM1oLY",
        "outputId": "b22017dc-a39f-4dad-84e7-85627c9f2b8d"
      },
      "execution_count": null,
      "outputs": [
        {
          "output_type": "execute_result",
          "data": {
            "text/plain": [
              "Index(['found_pistol', 'found_rifle', 'found_assault', 'found_machinegun',\n",
              "       'found_knife', 'found_other'],\n",
              "      dtype='object')"
            ]
          },
          "metadata": {},
          "execution_count": 20
        }
      ]
    },
    {
      "cell_type": "code",
      "source": [
        "df1[0]"
      ],
      "metadata": {
        "colab": {
          "base_uri": "https://localhost:8080/"
        },
        "id": "aKV5z-xZ2nKL",
        "outputId": "5c12f6aa-9572-466e-8564-f6b3f0562357"
      },
      "execution_count": null,
      "outputs": [
        {
          "output_type": "execute_result",
          "data": {
            "text/plain": [
              "found_pistol         3698\n",
              "found_rifle           138\n",
              "found_assault         200\n",
              "found_machinegun       24\n",
              "found_knife         25439\n",
              "found_other          7290\n",
              "Name: 0, dtype: int64"
            ]
          },
          "metadata": {},
          "execution_count": 27
        }
      ]
    },
    {
      "cell_type": "code",
      "source": [
        "import matplotlib.pyplot as plt"
      ],
      "metadata": {
        "id": "NLSPWusm1evO"
      },
      "execution_count": null,
      "outputs": []
    },
    {
      "cell_type": "code",
      "source": [
        "fig, ax = plt.subplots()\n",
        "bars = ax.bar(df1['index'], df1[0], color='lightblue')\n",
        "\n",
        "# add sales values on top of each bar\n",
        "for bar in bars:\n",
        "    height = bar.get_height()\n",
        "    ax.annotate(f'{height}', xy=(bar.get_x() + bar.get_width() / 2, height),\n",
        "                xytext=(0, 3), textcoords=\"offset points\", ha='center', va='bottom')\n",
        "    \n",
        "# Add title and axis labels\n",
        "ax.set_title('Weapons Found')\n",
        "ax.set_xlabel('Weapon')\n",
        "ax.set_ylabel('# Cases')\n",
        "\n",
        "\n",
        "# Customize plot aesthetics\n",
        "ax.spines['right'].set_visible(False)\n",
        "ax.spines['top'].set_visible(False)\n",
        "ax.ticklabel_format(axis='y', style='plain')\n",
        "ax.set_axisbelow(True)\n",
        "ax.yaxis.grid(True, linestyle='--', color='lightgray', alpha=0.7)\n",
        "\n",
        "plt.xticks(rotation=45)\n",
        "\n",
        "plt.show()"
      ],
      "metadata": {
        "colab": {
          "base_uri": "https://localhost:8080/",
          "height": 562
        },
        "id": "uXs1z4Nf1Xkf",
        "outputId": "79807d06-6072-4a6f-b775-9a22d545f982"
      },
      "execution_count": null,
      "outputs": [
        {
          "output_type": "display_data",
          "data": {
            "text/plain": [
              "<Figure size 640x480 with 1 Axes>"
            ],
            "image/png": "[encoded data removed]"
          },
          "metadata": {}
        }
      ]
    },
    {
      "cell_type": "code",
      "source": [
        "sns.countplot(x=data[\"year\"])"
      ],
      "metadata": {
        "colab": {
          "base_uri": "https://localhost:8080/",
          "height": 466
        },
        "id": "dMvlEmcSrxOS",
        "outputId": "effca497-c587-4be9-cf5a-734be1fb4f3e"
      },
      "execution_count": null,
      "outputs": [
        {
          "output_type": "execute_result",
          "data": {
            "text/plain": [
              "<Axes: xlabel='year', ylabel='count'>"
            ]
          },
          "metadata": {},
          "execution_count": 21
        },
        {
          "output_type": "display_data",
          "data": {
            "text/plain": [
              "<Figure size 640x480 with 1 Axes>"
            ],
            "image/png": "[encoded data removed]"
          },
          "metadata": {}
        }
      ]
    },
    {
      "cell_type": "code",
      "source": [
        "df2= data[['year','found_pistol','found_rifle','found_assault','found_machinegun','found_knife','found_other']]"
      ],
      "metadata": {
        "id": "FWKMgltj6i7z"
      },
      "execution_count": null,
      "outputs": []
    },
    {
      "cell_type": "code",
      "source": [
        "# reshape the dataframe using melt()\n",
        "melted = pd.melt(df2, id_vars=['year'], value_vars=['found_pistol','found_rifle','found_assault','found_machinegun','found_knife','found_other'], var_name='Weapon', value_name='Count')\n",
        "\n",
        "# group the data by year and weapon type, and calculate the total count for each group\n",
        "grouped = melted.groupby(['year', 'Weapon']).sum()\n",
        "\n",
        "# calculate the proportion of each weapon type for each year\n",
        "proportions = grouped.groupby(level=0).apply(lambda x: x / x.sum())\n",
        "\n",
        "# create a stacked bar graph of the weapon proportions by year\n",
        "ax = proportions.unstack(level=1).plot(kind='bar', stacked=True)\n",
        "\n",
        "# rename the legends\n",
        "legend_dict = {'found_pistol':'Pistols','found_rifle':'Rifle','found_assault':'Assault','found_machinegun':'Machine Gun','found_knife':'Knife','found_other':'Other'}\n",
        "handles, labels = ax.get_legend_handles_labels()\n",
        "new_labels = [legend_dict.get(label, label) for label in labels]\n",
        "ax.legend(handles, new_labels)\n",
        "\n",
        "# add title and axis labels\n",
        "plt.title('Proportion of Weapons Found by Year')\n",
        "plt.xlabel('Year')\n",
        "plt.ylabel('Proportion')\n",
        "\n",
        "plt.tight_layout()\n",
        "\n",
        "# show the plot\n",
        "plt.show()\n"
      ],
      "metadata": {
        "colab": {
          "base_uri": "https://localhost:8080/",
          "height": 660
        },
        "id": "HAKrFJEG6gOk",
        "outputId": "b95133fb-6507-4932-a11c-b716ed1c28ed"
      },
      "execution_count": null,
      "outputs": [
        {
          "output_type": "stream",
          "name": "stderr",
          "text": [
            "<ipython-input-45-bd40b79b6029>:8: FutureWarning: Not prepending group keys to the result index of transform-like apply. In the future, the group keys will be included in the index, regardless of whether the applied function returns a like-indexed object.\n",
            "To preserve the previous behavior, use\n",
            "\n",
            "\t>>> .groupby(..., group_keys=False)\n",
            "\n",
            "To adopt the future behavior and silence this warning, use \n",
            "\n",
            "\t>>> .groupby(..., group_keys=True)\n",
            "  proportions = grouped.groupby(level=0).apply(lambda x: x / x.sum())\n"
          ]
        },
        {
          "output_type": "display_data",
          "data": {
            "text/plain": [
              "<Figure size 640x480 with 1 Axes>"
            ],
            "image/png": "[encoded data removed]"
          },
          "metadata": {}
        }
      ]
    },
    {
      "cell_type": "code",
      "source": [],
      "metadata": {
        "id": "Jgd-4m8VsKg_",
        "colab": {
          "base_uri": "https://localhost:8080/",
          "height": 419
        },
        "outputId": "9973982e-f4a1-4e2e-d20f-eb607bf80112"
      },
      "execution_count": null,
      "outputs": [
        {
          "output_type": "execute_result",
          "data": {
            "text/plain": [
              "         found_pistol  found_rifle  found_assault  found_machinegun  \\\n",
              "0               False        False          False             False   \n",
              "1               False        False          False             False   \n",
              "2               False        False          False             False   \n",
              "3               False        False          False             False   \n",
              "4               False        False          False             False   \n",
              "...               ...          ...            ...               ...   \n",
              "2528266         False        False          False             False   \n",
              "2528267         False        False          False             False   \n",
              "2528268         False        False          False             False   \n",
              "2528269         False        False          False             False   \n",
              "2528270         False        False          False             False   \n",
              "\n",
              "         found_knife  found_other  \n",
              "0              False        False  \n",
              "1              False        False  \n",
              "2              False        False  \n",
              "3              False        False  \n",
              "4              False        False  \n",
              "...              ...          ...  \n",
              "2528266        False        False  \n",
              "2528267        False        False  \n",
              "2528268        False        False  \n",
              "2528269        False        False  \n",
              "2528270        False         True  \n",
              "\n",
              "[2528271 rows x 6 columns]"
            ],
            "text/html": [
              "\n",
              "  <div id=\"df-7c66e405-75a2-4e9e-bee1-46780011563c\">\n",
              "    <div class=\"colab-df-container\">\n",
              "      <div>\n",
              "<style scoped>\n",
              "    .dataframe tbody tr th:only-of-type {\n",
              "        vertical-align: middle;\n",
              "    }\n",
              "\n",
              "    .dataframe tbody tr th {\n",
              "        vertical-align: top;\n",
              "    }\n",
              "\n",
              "    .dataframe thead th {\n",
              "        text-align: right;\n",
              "    }\n",
              "</style>\n",
              "<table border=\"1\" class=\"dataframe\">\n",
              "  <thead>\n",
              "    <tr style=\"text-align: right;\">\n",
              "      <th></th>\n",
              "      <th>found_pistol</th>\n",
              "      <th>found_rifle</th>\n",
              "      <th>found_assault</th>\n",
              "      <th>found_machinegun</th>\n",
              "      <th>found_knife</th>\n",
              "      <th>found_other</th>\n",
              "    </tr>\n",
              "  </thead>\n",
              "  <tbody>\n",
              "    <tr>\n",
              "      <th>0</th>\n",
              "      <td>False</td>\n",
              "      <td>False</td>\n",
              "      <td>False</td>\n",
              "      <td>False</td>\n",
              "      <td>False</td>\n",
              "      <td>False</td>\n",
              "    </tr>\n",
              "    <tr>\n",
              "      <th>1</th>\n",
              "      <td>False</td>\n",
              "      <td>False</td>\n",
              "      <td>False</td>\n",
              "      <td>False</td>\n",
              "      <td>False</td>\n",
              "      <td>False</td>\n",
              "    </tr>\n",
              "    <tr>\n",
              "      <th>2</th>\n",
              "      <td>False</td>\n",
              "      <td>False</td>\n",
              "      <td>False</td>\n",
              "      <td>False</td>\n",
              "      <td>False</td>\n",
              "      <td>False</td>\n",
              "    </tr>\n",
              "    <tr>\n",
              "      <th>3</th>\n",
              "      <td>False</td>\n",
              "      <td>False</td>\n",
              "      <td>False</td>\n",
              "      <td>False</td>\n",
              "      <td>False</td>\n",
              "      <td>False</td>\n",
              "    </tr>\n",
              "    <tr>\n",
              "      <th>4</th>\n",
              "      <td>False</td>\n",
              "      <td>False</td>\n",
              "      <td>False</td>\n",
              "      <td>False</td>\n",
              "      <td>False</td>\n",
              "      <td>False</td>\n",
              "    </tr>\n",
              "    <tr>\n",
              "      <th>...</th>\n",
              "      <td>...</td>\n",
              "      <td>...</td>\n",
              "      <td>...</td>\n",
              "      <td>...</td>\n",
              "      <td>...</td>\n",
              "      <td>...</td>\n",
              "    </tr>\n",
              "    <tr>\n",
              "      <th>2528266</th>\n",
              "      <td>False</td>\n",
              "      <td>False</td>\n",
              "      <td>False</td>\n",
              "      <td>False</td>\n",
              "      <td>False</td>\n",
              "      <td>False</td>\n",
              "    </tr>\n",
              "    <tr>\n",
              "      <th>2528267</th>\n",
              "      <td>False</td>\n",
              "      <td>False</td>\n",
              "      <td>False</td>\n",
              "      <td>False</td>\n",
              "      <td>False</td>\n",
              "      <td>False</td>\n",
              "    </tr>\n",
              "    <tr>\n",
              "      <th>2528268</th>\n",
              "      <td>False</td>\n",
              "      <td>False</td>\n",
              "      <td>False</td>\n",
              "      <td>False</td>\n",
              "      <td>False</td>\n",
              "      <td>False</td>\n",
              "    </tr>\n",
              "    <tr>\n",
              "      <th>2528269</th>\n",
              "      <td>False</td>\n",
              "      <td>False</td>\n",
              "      <td>False</td>\n",
              "      <td>False</td>\n",
              "      <td>False</td>\n",
              "      <td>False</td>\n",
              "    </tr>\n",
              "    <tr>\n",
              "      <th>2528270</th>\n",
              "      <td>False</td>\n",
              "      <td>False</td>\n",
              "      <td>False</td>\n",
              "      <td>False</td>\n",
              "      <td>False</td>\n",
              "      <td>True</td>\n",
              "    </tr>\n",
              "  </tbody>\n",
              "</table>\n",
              "<p>2528271 rows × 6 columns</p>\n",
              "</div>\n",
              "      <button class=\"colab-df-convert\" onclick=\"convertToInteractive('df-7c66e405-75a2-4e9e-bee1-46780011563c')\"\n",
              "              title=\"Convert this dataframe to an interactive table.\"\n",
              "              style=\"display:none;\">\n",
              "        \n",
              "  <svg xmlns=\"http://www.w3.org/2000/svg\" height=\"24px\"viewBox=\"0 0 24 24\"\n",
              "       width=\"24px\">\n",
              "    <path d=\"M0 0h24v24H0V0z\" fill=\"none\"/>\n",
              "    <path d=\"M18.56 5.44l.94 2.06.94-2.06 2.06-.94-2.06-.94-.94-2.06-.94 2.06-2.06.94zm-11 1L8.5 8.5l.94-2.06 2.06-.94-2.06-.94L8.5 2.5l-.94 2.06-2.06.94zm10 10l.94 2.06.94-2.06 2.06-.94-2.06-.94-.94-2.06-.94 2.06-2.06.94z\"/><path d=\"M17.41 7.96l-1.37-1.37c-.4-.4-.92-.59-1.43-.59-.52 0-1.04.2-1.43.59L10.3 9.45l-7.72 7.72c-.78.78-.78 2.05 0 2.83L4 21.41c.39.39.9.59 1.41.59.51 0 1.02-.2 1.41-.59l7.78-7.78 2.81-2.81c.8-.78.8-2.07 0-2.86zM5.41 20L4 18.59l7.72-7.72 1.47 1.35L5.41 20z\"/>\n",
              "  </svg>\n",
              "      </button>\n",
              "      \n",
              "  <style>\n",
              "    .colab-df-container {\n",
              "      display:flex;\n",
              "      flex-wrap:wrap;\n",
              "      gap: 12px;\n",
              "    }\n",
              "\n",
              "    .colab-df-convert {\n",
              "      background-color: #E8F0FE;\n",
              "      border: none;\n",
              "      border-radius: 50%;\n",
              "      cursor: pointer;\n",
              "      display: none;\n",
              "      fill: #1967D2;\n",
              "      height: 32px;\n",
              "      padding: 0 0 0 0;\n",
              "      width: 32px;\n",
              "    }\n",
              "\n",
              "    .colab-df-convert:hover {\n",
              "      background-color: #E2EBFA;\n",
              "      box-shadow: 0px 1px 2px rgba(60, 64, 67, 0.3), 0px 1px 3px 1px rgba(60, 64, 67, 0.15);\n",
              "      fill: #174EA6;\n",
              "    }\n",
              "\n",
              "    [theme=dark] .colab-df-convert {\n",
              "      background-color: #3B4455;\n",
              "      fill: #D2E3FC;\n",
              "    }\n",
              "\n",
              "    [theme=dark] .colab-df-convert:hover {\n",
              "      background-color: #434B5C;\n",
              "      box-shadow: 0px 1px 3px 1px rgba(0, 0, 0, 0.15);\n",
              "      filter: drop-shadow(0px 1px 2px rgba(0, 0, 0, 0.3));\n",
              "      fill: #FFFFFF;\n",
              "    }\n",
              "  </style>\n",
              "\n",
              "      <script>\n",
              "        const buttonEl =\n",
              "          document.querySelector('#df-7c66e405-75a2-4e9e-bee1-46780011563c button.colab-df-convert');\n",
              "        buttonEl.style.display =\n",
              "          google.colab.kernel.accessAllowed ? 'block' : 'none';\n",
              "\n",
              "        async function convertToInteractive(key) {\n",
              "          const element = document.querySelector('#df-7c66e405-75a2-4e9e-bee1-46780011563c');\n",
              "          const dataTable =\n",
              "            await google.colab.kernel.invokeFunction('convertToInteractive',\n",
              "                                                     [key], {});\n",
              "          if (!dataTable) return;\n",
              "\n",
              "          const docLinkHtml = 'Like what you see? Visit the ' +\n",
              "            '<a target=\"_blank\" href=https://colab.research.google.com/notebooks/data_table.ipynb>data table notebook</a>'\n",
              "            + ' to learn more about interactive tables.';\n",
              "          element.innerHTML = '';\n",
              "          dataTable['output_type'] = 'display_data';\n",
              "          await google.colab.output.renderOutput(dataTable, element);\n",
              "          const docLink = document.createElement('div');\n",
              "          docLink.innerHTML = docLinkHtml;\n",
              "          element.appendChild(docLink);\n",
              "        }\n",
              "      </script>\n",
              "    </div>\n",
              "  </div>\n",
              "  "
            ]
          },
          "metadata": {},
          "execution_count": 37
        }
      ]
    },
    {
      "cell_type": "code",
      "source": [
        "data.found_weapon.value_counts()"
      ],
      "metadata": {
        "colab": {
          "base_uri": "https://localhost:8080/"
        },
        "id": "3Fc4rUdi6HRa",
        "outputId": "e6ded1e9-7cd4-4c82-f999-88b523291e0d"
      },
      "execution_count": null,
      "outputs": [
        {
          "output_type": "execute_result",
          "data": {
            "text/plain": [
              "False    2493270\n",
              "True       35001\n",
              "Name: found_weapon, dtype: int64"
            ]
          },
          "metadata": {},
          "execution_count": 47
        }
      ]
    },
    {
      "cell_type": "code",
      "source": [
        "data = pd.read_csv('sqf_data.csv')"
      ],
      "metadata": {
        "id": "o5yM49Ay8qRk",
        "colab": {
          "base_uri": "https://localhost:8080/"
        },
        "outputId": "08187a90-e358-48a7-aad3-0ac32b79567f"
      },
      "execution_count": 50,
      "outputs": [
        {
          "output_type": "stream",
          "name": "stderr",
          "text": [
            "<ipython-input-50-52781e3e6ce6>:1: DtypeWarning: Columns (12,13,14,15,16,17,18,19,20,21,22,23,24,25,27,31) have mixed types. Specify dtype option on import or set low_memory=False.\n",
            "  data = pd.read_csv('sqf_data.csv')\n"
          ]
        }
      ]
    },
    {
      "cell_type": "code",
      "source": [
        "data.year.value_counts()"
      ],
      "metadata": {
        "id": "Y8cBzGDB_1a7",
        "colab": {
          "base_uri": "https://localhost:8080/"
        },
        "outputId": "ebed401c-8aaa-4a0d-e711-8065495f22ee"
      },
      "execution_count": 53,
      "outputs": [
        {
          "output_type": "execute_result",
          "data": {
            "text/plain": [
              "2008    85367\n",
              "Name: year, dtype: int64"
            ]
          },
          "metadata": {},
          "execution_count": 53
        }
      ]
    },
    {
      "cell_type": "code",
      "source": [],
      "metadata": {
        "id": "JPVvKh2VAoPw"
      },
      "execution_count": null,
      "outputs": []
    }
  ]
}